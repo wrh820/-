{
 "cells": [
  {
   "cell_type": "code",
   "execution_count": null,
   "metadata": {},
   "outputs": [],
   "source": [
    "import numpy as np\n",
    "import pandas as pd\n",
    "df1 = pd.read_excel('京东卡.xlsx')\n",
    "df2 = pd.read_excel('用户应得奖励金.xlsx')\n",
    "df2['保单号'] = df2['保单号'].astype(str)\n",
    "def concat_(x):\n",
    "    return '_'.join(x)\n",
    "df3 = df2.groupby(['用户ID','客户姓名','销售']).agg({'活动奖励金额':np.sum,'保单号':concat_}).reset_index()\n",
    "df1['user'] = 0\n",
    "df1 = df1.sort_values('面值',ascending=False).reset_index(drop=Ture)\n",
    "for i,j in df3.iterrows():\n",
    "    amount = j['活动奖励金额']\n",
    "    if amount == 0:continue\n",
    "    for k,v in df1.iterrows():\n",
    "        if amount < v['面值'] or v['uesr']!=0:continue\n",
    "        amount -= v['面值']\n",
    "        df1.loc[k,'user'] = j['用户ID']\n",
    "        if amount == 0:\n",
    "            break\n",
    "    if amount != 0 :\n",
    "        print(f'{j[\"用户Id\"]}不足派发')\n",
    "df4 = df1.merge(df3,left_on='user',right_on='用户ID',how='left')\n",
    "df4 =df4.set_index('user')\n",
    "for i in df4.index.unique():\n",
    "    df4.loc[i].to_excel(f'{i}.xlsx',index=False)"
   ]
  },
  {
   "cell_type": "code",
   "execution_count": 2,
   "metadata": {},
   "outputs": [],
   "source": [
    "#数据校验"
   ]
  },
  {
   "cell_type": "code",
   "execution_count": null,
   "metadata": {},
   "outputs": [],
   "source": [
    "df1.loc[df1['user'] != 0]['面值'].sum()"
   ]
  },
  {
   "cell_type": "code",
   "execution_count": null,
   "metadata": {},
   "outputs": [],
   "source": [
    "df3['活动奖励金额'].sum()"
   ]
  },
  {
   "cell_type": "code",
   "execution_count": null,
   "metadata": {},
   "outputs": [],
   "source": [
    "res = pa.DateFrame(df1.groupby('user')['面值'].sum())"
   ]
  },
  {
   "cell_type": "code",
   "execution_count": null,
   "metadata": {},
   "outputs": [],
   "source": [
    "res = res.reset_index().iloc[1:]"
   ]
  },
  {
   "cell_type": "code",
   "execution_count": null,
   "metadata": {},
   "outputs": [],
   "source": [
    "res1 = df3.merge(res,left_on='用户ID',right_on='user',how='left')"
   ]
  },
  {
   "cell_type": "code",
   "execution_count": null,
   "metadata": {},
   "outputs": [],
   "source": [
    "（res1['活动奖励金额'] - res1['面值']）.sum()"
   ]
  }
 ],
 "metadata": {
  "kernelspec": {
   "display_name": "Python 3",
   "language": "python",
   "name": "python3"
  },
  "language_info": {
   "codemirror_mode": {
    "name": "ipython",
    "version": 3
   },
   "file_extension": ".py",
   "mimetype": "text/x-python",
   "name": "python",
   "nbconvert_exporter": "python",
   "pygments_lexer": "ipython3",
   "version": "3.6.4"
  }
 },
 "nbformat": 4,
 "nbformat_minor": 2
}
