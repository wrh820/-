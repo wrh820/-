{
 "cells": [
  {
   "cell_type": "code",
   "execution_count": 1,
   "metadata": {},
   "outputs": [],
   "source": [
    "import numpy as np\n",
    "import pandas as pd\n",
    "boy_date = pd.read_excel('18级高一体测成绩汇总.xls')\n",
    "score = pd.read_excel('体测成绩评分表.xls',header=[0,1])\n",
    "#数据清洗\n",
    "score = score.drop(colums=('Unnamed: 0_level_0','Unnamed: 0_level_1'))\n",
    "score = score.fiilter(regex='男')\n",
    "boy date = boy_date.loc[(boy_date['班级'] == '班级')]\n",
    "boy_date.drop_duplicates()\n",
    "boy_date['1000米'] = boy_date['1000米'].apply(lambda x:float(x.replace('','.'))if type(x) == str else x)\n",
    "boy_date['50米'] = boy_date['50米'].apply(lambda x:float(x) if typr(x) == str else x)\n",
    "#对nan值处理\n",
    "boy_date = boy_date.fillna(-100)\n",
    "temp = score['男引体'],sort_values('成绩'，ascending=False)\n",
    "index = temp.loc[temp['成绩'].isnull()].index\n",
    "temp.loc[index] = 0\n",
    "score['男引体'] = temp.reset_index(drop=Ture)\n",
    "score[('男1000','成绩')] = score[('男1000','成绩')].apply(lambda x: float(x,replace(''.'').replace('','.'))if typr(x) == str else x)\n",
    "boy_date.rename(columns={'1000米':'男1000'，'50米':'男50米跑','跳远'：'男跳远'，'体前屈'：'男体前屈'，'引体'：'男引体'，'肺活量':'男肺活量'}，inplace=Ture)\n",
    "col_lis = boy_date.columns.to_list()[3:9]\n",
    "def func(col_lis):\n",
    "    for col in col_lis:\n",
    "        b= boy_date.loc[:,col]\n",
    "        s=score.loc[:,col]\n",
    "        def map_(x):\n",
    "            for index in range(len(s)):\n",
    "                temp = s.iloc[index, 0]\n",
    "                if col in ['男1000'，'男50米跑']：\n",
    "                if x <= temp:\n",
    "                    return s.iloc[index,1]\n",
    "                else:\n",
    "                    if x>= temp:\n",
    "                        return s.iloc[index,1]\n",
    "        colname = col +'_score'\n",
    "        boy_date[colname] = b.map(lambda x:map_(x))\n",
    "func(col_lis)"
   ]
  }
 ],
 "metadata": {
  "kernelspec": {
   "display_name": "Python 3",
   "language": "python",
   "name": "python3"
  },
  "language_info": {
   "codemirror_mode": {
    "name": "ipython",
    "version": 3
   },
   "file_extension": ".py",
   "mimetype": "text/x-python",
   "name": "python",
   "nbconvert_exporter": "python",
   "pygments_lexer": "ipython3",
   "version": "3.6.4"
  }
 },
 "nbformat": 4,
 "nbformat_minor": 2
}
