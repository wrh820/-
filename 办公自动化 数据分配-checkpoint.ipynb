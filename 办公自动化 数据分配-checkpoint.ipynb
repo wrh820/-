{
 "cells": [
  {
   "cell_type": "code",
   "execution_count": null,
   "metadata": {},
   "outputs": [],
   "source": [
    "import numpy as np\n",
    "import pandas as pd\n",
    "staff = pd.read_excel('坐席保留明细.xlsx')\n",
    "date = pd.read_excel('客户明细.xlsx')\n",
    "#打乱数据，目的是随机分配\n",
    "date = date.sample(frac=1)。reset_index(drop=Ture)\n",
    "date['staff'] = 0\n",
    "staff['共补'] = 0\n",
    "dic = {'A补多少’：‘70W+’,‘B补多少’：'10-70W','C补多少':'1-10W'}\n",
    "def assign_customers(staff,date,dic):\n",
    "    for a,b in dic.items():\n",
    "        for i,j in staff.iterrows():\n",
    "            total = j[a]\n",
    "            if total == 0:continue\n",
    "            for k,v in date.iterrows():\n",
    "                if v['在投等级'] != b or v['staff'] != 0:continue\n",
    "                date.loc[k,'staff'] = j['销售']\n",
    "                staff.loc[i,'共补'] += 1\n",
    "                total -= 0:\n",
    "                if total == 0:break\n",
    "            if total != 0:\n",
    "                print(f'{j[销售]}没发完')\n",
    "assign_customers(staff,date,dic)                \n",
    "date.to_execl('new_date.xlsx')                "
   ]
  },
  {
   "cell_type": "code",
   "execution_count": null,
   "metadata": {},
   "outputs": [],
   "source": [
    "#数据校验"
   ]
  },
  {
   "cell_type": "code",
   "execution_count": null,
   "metadata": {},
   "outputs": [],
   "source": [
    "res = pd.DateFrame(date.groupby('staff')['user_id'].count()).reset_index().iloc[1:]"
   ]
  },
  {
   "cell_type": "code",
   "execution_count": null,
   "metadata": {},
   "outputs": [],
   "source": [
    "staff[ (staff[共补]==0)]"
   ]
  },
  {
   "cell_type": "code",
   "execution_count": null,
   "metadata": {},
   "outputs": [],
   "source": [
    "staff['确定要补的人'] = staff.iloc[:,1:4].sum(axis=1)"
   ]
  },
  {
   "cell_type": "code",
   "execution_count": null,
   "metadata": {},
   "outputs": [],
   "source": [
    "(staff['共补'] == staff['确定要补的人']).all()"
   ]
  },
  {
   "cell_type": "code",
   "execution_count": null,
   "metadata": {},
   "outputs": [],
   "source": [
    "res1 = staff.merge(res,left_on='销售'，right_on='staff',how='left')"
   ]
  },
  {
   "cell_type": "code",
   "execution_count": null,
   "metadata": {},
   "outputs": [],
   "source": [
    "res['user_id'].sum()"
   ]
  },
  {
   "cell_type": "code",
   "execution_count": null,
   "metadata": {},
   "outputs": [],
   "source": [
    "staff['共补']。sum()"
   ]
  }
 ],
 "metadata": {
  "kernelspec": {
   "display_name": "Python 3",
   "language": "python",
   "name": "python3"
  },
  "language_info": {
   "codemirror_mode": {
    "name": "ipython",
    "version": 3
   },
   "file_extension": ".py",
   "mimetype": "text/x-python",
   "name": "python",
   "nbconvert_exporter": "python",
   "pygments_lexer": "ipython3",
   "version": "3.6.4"
  }
 },
 "nbformat": 4,
 "nbformat_minor": 2
}
